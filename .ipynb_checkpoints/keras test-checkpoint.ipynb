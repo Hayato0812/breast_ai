{
 "cells": [
  {
   "cell_type": "code",
   "execution_count": 10,
   "metadata": {},
   "outputs": [],
   "source": [
    "import numpy as np\n",
    "import pandas as pd\n",
    "import os\n",
    "import cv2\n",
    "from sklearn.model_selection import train_test_split\n",
    "from keras.applications.vgg19 import VGG19\n",
    "from keras.applications.vgg16 import VGG16\n",
    "from keras.optimizers import Adam\n",
    "from keras.preprocessing.image import ImageDataGenerator\n",
    "from keras.models import Sequential, Model\n",
    "from keras.layers import Input, Activation, Dropout, Flatten, Dense, GlobalAveragePooling2D\n",
    "from keras.preprocessing.image import ImageDataGenerator\n",
    "from keras import optimizers"
   ]
  },
  {
   "cell_type": "code",
   "execution_count": 12,
   "metadata": {},
   "outputs": [
    {
     "name": "stdout",
     "output_type": "stream",
     "text": [
      "_________________________________________________________________\n",
      "Layer (type)                 Output Shape              Param #   \n",
      "=================================================================\n",
      "input_8 (InputLayer)         (None, 150, 150, 3)       0         \n",
      "_________________________________________________________________\n",
      "block1_conv1 (Conv2D)        (None, 150, 150, 64)      1792      \n",
      "_________________________________________________________________\n",
      "block1_conv2 (Conv2D)        (None, 150, 150, 64)      36928     \n",
      "_________________________________________________________________\n",
      "block1_pool (MaxPooling2D)   (None, 75, 75, 64)        0         \n",
      "_________________________________________________________________\n",
      "block2_conv1 (Conv2D)        (None, 75, 75, 128)       73856     \n",
      "_________________________________________________________________\n",
      "block2_conv2 (Conv2D)        (None, 75, 75, 128)       147584    \n",
      "_________________________________________________________________\n",
      "block2_pool (MaxPooling2D)   (None, 37, 37, 128)       0         \n",
      "_________________________________________________________________\n",
      "block3_conv1 (Conv2D)        (None, 37, 37, 256)       295168    \n",
      "_________________________________________________________________\n",
      "block3_conv2 (Conv2D)        (None, 37, 37, 256)       590080    \n",
      "_________________________________________________________________\n",
      "block3_conv3 (Conv2D)        (None, 37, 37, 256)       590080    \n",
      "_________________________________________________________________\n",
      "block3_conv4 (Conv2D)        (None, 37, 37, 256)       590080    \n",
      "_________________________________________________________________\n",
      "block3_pool (MaxPooling2D)   (None, 18, 18, 256)       0         \n",
      "_________________________________________________________________\n",
      "block4_conv1 (Conv2D)        (None, 18, 18, 512)       1180160   \n",
      "_________________________________________________________________\n",
      "block4_conv2 (Conv2D)        (None, 18, 18, 512)       2359808   \n",
      "_________________________________________________________________\n",
      "block4_conv3 (Conv2D)        (None, 18, 18, 512)       2359808   \n",
      "_________________________________________________________________\n",
      "block4_conv4 (Conv2D)        (None, 18, 18, 512)       2359808   \n",
      "_________________________________________________________________\n",
      "block4_pool (MaxPooling2D)   (None, 9, 9, 512)         0         \n",
      "_________________________________________________________________\n",
      "block5_conv1 (Conv2D)        (None, 9, 9, 512)         2359808   \n",
      "_________________________________________________________________\n",
      "block5_conv2 (Conv2D)        (None, 9, 9, 512)         2359808   \n",
      "_________________________________________________________________\n",
      "block5_conv3 (Conv2D)        (None, 9, 9, 512)         2359808   \n",
      "_________________________________________________________________\n",
      "block5_conv4 (Conv2D)        (None, 9, 9, 512)         2359808   \n",
      "_________________________________________________________________\n",
      "block5_pool (MaxPooling2D)   (None, 4, 4, 512)         0         \n",
      "_________________________________________________________________\n",
      "global_average_pooling2d_2 ( (None, 512)               0         \n",
      "_________________________________________________________________\n",
      "dense_8 (Dense)              (None, 1024)              525312    \n",
      "_________________________________________________________________\n",
      "dense_9 (Dense)              (None, 1)                 1025      \n",
      "=================================================================\n",
      "Total params: 20,550,721\n",
      "Trainable params: 12,325,377\n",
      "Non-trainable params: 8,225,344\n",
      "_________________________________________________________________\n"
     ]
    }
   ],
   "source": [
    "base_model=VGG19(weights='imagenet',include_top=False,\n",
    "                 input_tensor=Input(shape=(150,150,3)))\n",
    "\n",
    "x=base_model.output\n",
    "x=GlobalAveragePooling2D()(x)\n",
    "x=Dense(1024,activation='relu')(x)\n",
    "prediction=Dense(1)(x)\n",
    "model=Model(inputs=base_model.input,outputs=prediction)\n",
    "\n",
    "for layer in base_model.layers[:15]:\n",
    "    layer.trainable=False\n",
    "\n",
    "model.compile(Adam(lr=1e-3), loss=\"mean_squared_error\")\n",
    "model.summary()\n",
    "\n"
   ]
  },
  {
   "cell_type": "code",
   "execution_count": 32,
   "metadata": {},
   "outputs": [
    {
     "name": "stdout",
     "output_type": "stream",
     "text": [
      "(120,)\n",
      "Epoch 1/1\n",
      "6/6 [==============================] - 100s 17s/step - loss: 119596504.8061 - val_loss: 47900.9844\n"
     ]
    }
   ],
   "source": [
    "import numpy as np\n",
    "import pandas as pd\n",
    "import os\n",
    "import cv2\n",
    "from sklearn.model_selection import train_test_split\n",
    "from keras.applications.vgg19 import VGG19\n",
    "from keras.optimizers import Adam\n",
    "from keras.preprocessing.image import ImageDataGenerator\n",
    "from keras.models import Sequential, Model\n",
    "from keras.layers import Input, Activation, Dropout, Flatten, Dense\n",
    "from keras.preprocessing.image import ImageDataGenerator\n",
    "from keras import optimizers\n",
    "from keras.callbacks import EarlyStopping, ModelCheckpoint\n",
    "# from keras.preprocessing.image import load_img,img_to_array\n",
    "\n",
    "#数値に変換\n",
    "def trans_from_cup_to_int(name_value):\n",
    "    name_array = [\"A\",\"B\",\"C\",\"D\",\"E\",\"F\",\"G\",\"H以上\"]\n",
    "    return name_array.index(name_value)\n",
    "\n",
    "#データの読み込み\n",
    "def load_data():\n",
    "    print(\"start loading...\")\n",
    "    path = \"data\"\n",
    "    name_list = [i for i in os.listdir(path) if i != '.DS_Store']\n",
    "    pic_num = 0\n",
    "    x_data = []\n",
    "    y_label_data = []\n",
    "    for name in name_list:\n",
    "        label_value = trans_from_cup_to_int(name)\n",
    "        pic_folder_path = path + \"/\" + name\n",
    "        pic_list = [i for i in os.listdir(pic_folder_path) if i != '.DS_Store']\n",
    "        for pic_name in pic_list:\n",
    "            pic_path = pic_folder_path+\"/\"+pic_name\n",
    "            img = cv2.imread(pic_path)\n",
    "            x_data.append(img)\n",
    "            y_label_data.append(label_value)\n",
    "    x_data = np.array(x_data)\n",
    "    y_label_data = np.array(y_label_data)\n",
    "    print(\"loading has finished!\")\n",
    "    return x_data, y_label_data\n",
    "\n",
    "#データの大きさ揃える、とりあえず150*150で様子見\n",
    "def resize_picture(images):\n",
    "    changed_images = []\n",
    "    for img in images:\n",
    "        img = cv2.resize(img, dsize=(200, 200))\n",
    "        changed_images.append(img)\n",
    "    changed_images = np.array(changed_images)\n",
    "    return changed_images\n",
    "\n",
    "#データの切り取りによるかさまし、いらないかも\n",
    "def make_more_data(images):\n",
    "    trans_images = []\n",
    "    for image in images:\n",
    "        cut_img = img[img.shape[0]//6:img.shape[0]*5//6,img.shape[1]//6:img.shape[1]*5//6]\n",
    "        trans_images.append(cut_img)\n",
    "    images.extend(trans_images)\n",
    "    return images\n",
    "\n",
    "def build_model():\n",
    "    base_model=VGG19(weights='imagenet',include_top=False,\n",
    "                 input_tensor=Input(shape=(200,200,3)))\n",
    "    x=base_model.output\n",
    "    x=GlobalAveragePooling2D()(x)\n",
    "    x=Dense(1024,activation='relu')(x)\n",
    "    prediction=Dense(1)(x)\n",
    "    model=Model(inputs=base_model.input,outputs=prediction)\n",
    "\n",
    "    for layer in base_model.layers[:15]:\n",
    "        layer.trainable=False\n",
    "\n",
    "    model.compile(Adam(lr=1e-3), loss=\"mean_squared_error\")\n",
    "    return model\n",
    "\n",
    "\n",
    "def fit_model(model):\n",
    "    random_seed = 0\n",
    "    samples_per_epoch = 20\n",
    "    batch_size=32\n",
    "    epochs = 10\n",
    "    #とりあえずぼかし以外\n",
    "    datagen = ImageDataGenerator(\n",
    "        rotation_range=30,\n",
    "        width_shift_range=0.2,\n",
    "        height_shift_range=0.2,\n",
    "        zoom_range=0.3,\n",
    "        horizontal_flip=True\n",
    "    )\n",
    "    #ここから下はこれを参照https://lp-tech.net/articles/Y56uo\n",
    "    early_stopping = EarlyStopping(monitor='val_loss', patience=10 , verbose=1)\n",
    "#     checkpointer = ModelCheckpoint(\n",
    "#         model_weights,\n",
    "#         monitor='val_loss',\n",
    "#         verbose=1,\n",
    "#         save_best_only=True\n",
    "#         )\n",
    "    print(Y_train.shape)\n",
    "    history = model.fit_generator(\n",
    "        datagen.flow(X_train, Y_train, batch_size=20),\n",
    "        epochs = epochs\n",
    "        validation_data=(X_val,Y_val),\n",
    "        callbacks=[early_stopping]\n",
    "    )\n",
    "    return model\n",
    "\n",
    "\n",
    "# x_data, y_label_data = load_data()\n",
    "# x_data = resize_picture(x_data)\n",
    "model = build_model()\n",
    "X_train, X_val, Y_train, Y_val = train_test_split(x_data, y_label_data, random_state=random_seed)\n",
    "model = fit_model(model)"
   ]
  },
  {
   "cell_type": "code",
   "execution_count": null,
   "metadata": {},
   "outputs": [],
   "source": [
    "score = model.evaluate(x_test, y_test, verbose=0)"
   ]
  },
  {
   "cell_type": "code",
   "execution_count": 20,
   "metadata": {},
   "outputs": [
    {
     "name": "stdout",
     "output_type": "stream",
     "text": [
      "(160,)\n",
      "<class 'numpy.ndarray'>\n"
     ]
    }
   ],
   "source": [
    "print(x_data.shape)\n",
    "print(type(x_data))"
   ]
  },
  {
   "cell_type": "code",
   "execution_count": null,
   "metadata": {},
   "outputs": [],
   "source": []
  },
  {
   "cell_type": "code",
   "execution_count": 5,
   "metadata": {},
   "outputs": [
    {
     "ename": "NameError",
     "evalue": "name 'model' is not defined",
     "output_type": "error",
     "traceback": [
      "\u001b[0;31m---------------------------------------------------------------------------\u001b[0m",
      "\u001b[0;31mNameError\u001b[0m                                 Traceback (most recent call last)",
      "\u001b[0;32m<ipython-input-5-188e4d5e6cd0>\u001b[0m in \u001b[0;36m<module>\u001b[0;34m\u001b[0m\n\u001b[0;32m----> 1\u001b[0;31m \u001b[0mmodel\u001b[0m\u001b[0;34m.\u001b[0m\u001b[0moutput_shape\u001b[0m\u001b[0;34m\u001b[0m\u001b[0;34m\u001b[0m\u001b[0m\n\u001b[0m",
      "\u001b[0;31mNameError\u001b[0m: name 'model' is not defined"
     ]
    }
   ],
   "source": [
    "model.output_shape"
   ]
  },
  {
   "cell_type": "code",
   "execution_count": null,
   "metadata": {},
   "outputs": [],
   "source": []
  }
 ],
 "metadata": {
  "kernelspec": {
   "display_name": "Python 3",
   "language": "python",
   "name": "python3"
  },
  "language_info": {
   "codemirror_mode": {
    "name": "ipython",
    "version": 3
   },
   "file_extension": ".py",
   "mimetype": "text/x-python",
   "name": "python",
   "nbconvert_exporter": "python",
   "pygments_lexer": "ipython3",
   "version": "3.7.1"
  }
 },
 "nbformat": 4,
 "nbformat_minor": 2
}
