{
 "cells": [
  {
   "cell_type": "code",
   "execution_count": 15,
   "metadata": {},
   "outputs": [],
   "source": [
    "import numpy as np\n",
    "import pandas as pd\n",
    "import cv2\n",
    "\n",
    "path = 'data/B/内田理央.jpg'"
   ]
  },
  {
   "cell_type": "code",
   "execution_count": 16,
   "metadata": {},
   "outputs": [
    {
     "data": {
      "text/plain": [
       "True"
      ]
     },
     "execution_count": 16,
     "metadata": {},
     "output_type": "execute_result"
    }
   ],
   "source": [
    "img = cv2.imread(path)\n",
    "cv2.imwrite(\"test/before_cut.png\",img)"
   ]
  },
  {
   "cell_type": "code",
   "execution_count": 17,
   "metadata": {},
   "outputs": [
    {
     "data": {
      "text/plain": [
       "True"
      ]
     },
     "execution_count": 17,
     "metadata": {},
     "output_type": "execute_result"
    }
   ],
   "source": [
    "img = cv2.resize(img, dsize=(200, 200))\n",
    "cv2.imwrite(\"test/after_dsize_small200.png\",img)"
   ]
  },
  {
   "cell_type": "code",
   "execution_count": 18,
   "metadata": {},
   "outputs": [
    {
     "data": {
      "text/plain": [
       "True"
      ]
     },
     "execution_count": 18,
     "metadata": {},
     "output_type": "execute_result"
    }
   ],
   "source": [
    "img = cv2.resize(img, dsize=(150, 150))\n",
    "cv2.imwrite(\"test/after_dsize_small150.png\",img)"
   ]
  },
  {
   "cell_type": "code",
   "execution_count": 19,
   "metadata": {},
   "outputs": [
    {
     "data": {
      "text/plain": [
       "True"
      ]
     },
     "execution_count": 19,
     "metadata": {},
     "output_type": "execute_result"
    }
   ],
   "source": [
    "img = cv2.resize(img, dsize=(100, 100))\n",
    "cv2.imwrite(\"test/after_dsize_small100.png\",img)"
   ]
  },
  {
   "cell_type": "code",
   "execution_count": 20,
   "metadata": {},
   "outputs": [
    {
     "data": {
      "text/plain": [
       "True"
      ]
     },
     "execution_count": 20,
     "metadata": {},
     "output_type": "execute_result"
    }
   ],
   "source": [
    "img = cv2.resize(img, dsize=(50, 50))\n",
    "cv2.imwrite(\"test/after_dsize_small50.png\",img)"
   ]
  },
  {
   "cell_type": "code",
   "execution_count": 21,
   "metadata": {},
   "outputs": [
    {
     "data": {
      "text/plain": [
       "True"
      ]
     },
     "execution_count": 21,
     "metadata": {},
     "output_type": "execute_result"
    }
   ],
   "source": [
    "cut_img = img[img.shape[0]//6:img.shape[0]*5//6,img.shape[1]//6:img.shape[1]*5//6]\n",
    "cv2.imwrite(\"test/after_cut.png\",cut_img)"
   ]
  },
  {
   "cell_type": "code",
   "execution_count": 13,
   "metadata": {},
   "outputs": [
    {
     "data": {
      "text/plain": [
       "array([[[220, 211, 214],\n",
       "        [219, 210, 213],\n",
       "        [219, 210, 213],\n",
       "        ...,\n",
       "        [234, 229, 231],\n",
       "        [236, 231, 233],\n",
       "        [237, 232, 234]],\n",
       "\n",
       "       [[215, 208, 211],\n",
       "        [215, 208, 211],\n",
       "        [214, 207, 210],\n",
       "        ...,\n",
       "        [234, 229, 231],\n",
       "        [236, 231, 233],\n",
       "        [237, 232, 234]],\n",
       "\n",
       "       [[213, 206, 209],\n",
       "        [213, 206, 209],\n",
       "        [213, 206, 209],\n",
       "        ...,\n",
       "        [234, 229, 231],\n",
       "        [236, 231, 233],\n",
       "        [237, 232, 234]],\n",
       "\n",
       "       ...,\n",
       "\n",
       "       [[237, 232, 231],\n",
       "        [238, 233, 232],\n",
       "        [238, 233, 232],\n",
       "        ...,\n",
       "        [228, 226, 232],\n",
       "        [225, 222, 231],\n",
       "        [226, 223, 232]],\n",
       "\n",
       "       [[238, 233, 232],\n",
       "        [238, 233, 232],\n",
       "        [238, 233, 232],\n",
       "        ...,\n",
       "        [234, 230, 236],\n",
       "        [232, 228, 234],\n",
       "        [234, 230, 236]],\n",
       "\n",
       "       [[238, 233, 232],\n",
       "        [238, 233, 232],\n",
       "        [238, 233, 232],\n",
       "        ...,\n",
       "        [234, 230, 235],\n",
       "        [234, 230, 235],\n",
       "        [233, 229, 234]]], dtype=uint8)"
      ]
     },
     "execution_count": 13,
     "metadata": {},
     "output_type": "execute_result"
    }
   ],
   "source": [
    "img"
   ]
  },
  {
   "cell_type": "code",
   "execution_count": null,
   "metadata": {},
   "outputs": [],
   "source": [
    "img = img[]"
   ]
  }
 ],
 "metadata": {
  "kernelspec": {
   "display_name": "Python 3",
   "language": "python",
   "name": "python3"
  },
  "language_info": {
   "codemirror_mode": {
    "name": "ipython",
    "version": 3
   },
   "file_extension": ".py",
   "mimetype": "text/x-python",
   "name": "python",
   "nbconvert_exporter": "python",
   "pygments_lexer": "ipython3",
   "version": "3.7.1"
  }
 },
 "nbformat": 4,
 "nbformat_minor": 2
}
