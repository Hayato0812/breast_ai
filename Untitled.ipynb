{
 "cells": [
  {
   "cell_type": "code",
   "execution_count": 11,
   "metadata": {},
   "outputs": [],
   "source": [
    "import numpy as np\n",
    "import pandas as pd\n",
    "import cv2\n",
    "\n",
    "path = 'data/B/にわみきほ.jpeg'"
   ]
  },
  {
   "cell_type": "code",
   "execution_count": 12,
   "metadata": {},
   "outputs": [
    {
     "data": {
      "text/plain": [
       "True"
      ]
     },
     "execution_count": 12,
     "metadata": {},
     "output_type": "execute_result"
    }
   ],
   "source": [
    "img = cv2.imread(path)\n",
    "cv2.imwrite(\"test/before_cut.png\",img)"
   ]
  },
  {
   "cell_type": "code",
   "execution_count": 14,
   "metadata": {},
   "outputs": [
    {
     "data": {
      "text/plain": [
       "(750, 488, 3)"
      ]
     },
     "execution_count": 14,
     "metadata": {},
     "output_type": "execute_result"
    }
   ],
   "source": [
    "img.shape"
   ]
  },
  {
   "cell_type": "code",
   "execution_count": 22,
   "metadata": {},
   "outputs": [
    {
     "data": {
      "text/plain": [
       "600.0"
      ]
     },
     "execution_count": 22,
     "metadata": {},
     "output_type": "execute_result"
    }
   ],
   "source": [
    "img.shape[0]*4/5"
   ]
  },
  {
   "cell_type": "code",
   "execution_count": 25,
   "metadata": {},
   "outputs": [
    {
     "data": {
      "text/plain": [
       "True"
      ]
     },
     "execution_count": 25,
     "metadata": {},
     "output_type": "execute_result"
    }
   ],
   "source": [
    "cut_img = img[img.shape[0]//6:img.shape[0]*5//6,img.shape[1]//6:img.shape[1]*5//6]\n",
    "cv2.imwrite(\"test/after_cut.png\",cut_img)"
   ]
  },
  {
   "cell_type": "code",
   "execution_count": 13,
   "metadata": {},
   "outputs": [
    {
     "data": {
      "text/plain": [
       "array([[[220, 211, 214],\n",
       "        [219, 210, 213],\n",
       "        [219, 210, 213],\n",
       "        ...,\n",
       "        [234, 229, 231],\n",
       "        [236, 231, 233],\n",
       "        [237, 232, 234]],\n",
       "\n",
       "       [[215, 208, 211],\n",
       "        [215, 208, 211],\n",
       "        [214, 207, 210],\n",
       "        ...,\n",
       "        [234, 229, 231],\n",
       "        [236, 231, 233],\n",
       "        [237, 232, 234]],\n",
       "\n",
       "       [[213, 206, 209],\n",
       "        [213, 206, 209],\n",
       "        [213, 206, 209],\n",
       "        ...,\n",
       "        [234, 229, 231],\n",
       "        [236, 231, 233],\n",
       "        [237, 232, 234]],\n",
       "\n",
       "       ...,\n",
       "\n",
       "       [[237, 232, 231],\n",
       "        [238, 233, 232],\n",
       "        [238, 233, 232],\n",
       "        ...,\n",
       "        [228, 226, 232],\n",
       "        [225, 222, 231],\n",
       "        [226, 223, 232]],\n",
       "\n",
       "       [[238, 233, 232],\n",
       "        [238, 233, 232],\n",
       "        [238, 233, 232],\n",
       "        ...,\n",
       "        [234, 230, 236],\n",
       "        [232, 228, 234],\n",
       "        [234, 230, 236]],\n",
       "\n",
       "       [[238, 233, 232],\n",
       "        [238, 233, 232],\n",
       "        [238, 233, 232],\n",
       "        ...,\n",
       "        [234, 230, 235],\n",
       "        [234, 230, 235],\n",
       "        [233, 229, 234]]], dtype=uint8)"
      ]
     },
     "execution_count": 13,
     "metadata": {},
     "output_type": "execute_result"
    }
   ],
   "source": [
    "img"
   ]
  },
  {
   "cell_type": "code",
   "execution_count": null,
   "metadata": {},
   "outputs": [],
   "source": [
    "img = img[]"
   ]
  }
 ],
 "metadata": {
  "kernelspec": {
   "display_name": "Python 3",
   "language": "python",
   "name": "python3"
  },
  "language_info": {
   "codemirror_mode": {
    "name": "ipython",
    "version": 3
   },
   "file_extension": ".py",
   "mimetype": "text/x-python",
   "name": "python",
   "nbconvert_exporter": "python",
   "pygments_lexer": "ipython3",
   "version": "3.7.1"
  }
 },
 "nbformat": 4,
 "nbformat_minor": 2
}
